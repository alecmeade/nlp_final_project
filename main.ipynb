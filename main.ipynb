{
  "nbformat": 4,
  "nbformat_minor": 0,
  "metadata": {
    "colab": {
      "name": "main.ipynb",
      "provenance": [],
      "authorship_tag": "ABX9TyPq7lH6Fyroa5+eSeROUA+0",
      "include_colab_link": true
    },
    "kernelspec": {
      "name": "python3",
      "display_name": "Python 3"
    },
    "language_info": {
      "name": "python"
    }
  },
  "cells": [
    {
      "cell_type": "markdown",
      "metadata": {
        "id": "view-in-github",
        "colab_type": "text"
      },
      "source": [
        "<a href=\"https://colab.research.google.com/github/alecmeade/nlp_final_project/blob/main/main.ipynb\" target=\"_parent\"><img src=\"https://colab.research.google.com/assets/colab-badge.svg\" alt=\"Open In Colab\"/></a>"
      ]
    },
    {
      "cell_type": "markdown",
      "metadata": {
        "id": "S7p4k1IlTfK0"
      },
      "source": [
        "## Drive Mounting and Git Clone"
      ]
    },
    {
      "cell_type": "code",
      "metadata": {
        "id": "Q8JVAyMIKP9Q"
      },
      "source": [
        "from google.colab import drive\n",
        "drive.mount('/content/gdrive')"
      ],
      "execution_count": null,
      "outputs": []
    },
    {
      "cell_type": "code",
      "metadata": {
        "id": "p9-sHH0qKWR7"
      },
      "source": [
        "%%bash\n",
        "mkdir \"/content/gdrive/MyDrive/nlp_final_project/\"\n",
        "cd \"/content/gdrive/MyDrive/nlp_final_project/\"\n",
        "git clone https://github.com/alecmeade/nlp_final_project.git"
      ],
      "execution_count": null,
      "outputs": []
    },
    {
      "cell_type": "markdown",
      "metadata": {
        "id": "yAsn7nA3Tcim"
      },
      "source": [
        "## Imports"
      ]
    },
    {
      "cell_type": "code",
      "metadata": {
        "id": "_aVRE0cLTY4B"
      },
      "source": [
        "from dataloaders import ImageCaptionDataset"
      ],
      "execution_count": null,
      "outputs": []
    },
    {
      "cell_type": "code",
      "metadata": {
        "id": "-HUwXpmTTj5V"
      },
      "source": [
        ""
      ],
      "execution_count": null,
      "outputs": []
    }
  ]
}